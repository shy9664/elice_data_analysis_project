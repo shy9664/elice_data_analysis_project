{
 "cells": [
  {
   "cell_type": "markdown",
   "id": "dc706e64",
   "metadata": {},
   "source": [
    "## 서울시 코로나 확진자 데이터\n",
    "### 모듈 import"
   ]
  },
  {
   "cell_type": "code",
   "execution_count": 1,
   "id": "fdf1501a",
   "metadata": {},
   "outputs": [],
   "source": [
    "import pandas as pd\n",
    "import numpy as np\n",
    "import seaborn as sns\n",
    "from matplotlib import pyplot as plt\n",
    "%matplotlib inline\n",
    "\n",
    "import warnings\n",
    "\n",
    "# 경고 메시지를 무시하고 숨기거나\n",
    "warnings.filterwarnings(action='ignore')"
   ]
  },
  {
   "cell_type": "code",
   "execution_count": 2,
   "id": "a47dd88e",
   "metadata": {},
   "outputs": [],
   "source": [
    "df = pd.read_csv('./seoul.csv')"
   ]
  },
  {
   "cell_type": "code",
   "execution_count": 3,
   "id": "37026078",
   "metadata": {
    "scrolled": false
   },
   "outputs": [
    {
     "name": "stdout",
     "output_type": "stream",
     "text": [
      "<class 'pandas.core.frame.DataFrame'>\n",
      "RangeIndex: 101411 entries, 0 to 101410\n",
      "Data columns (total 14 columns):\n",
      " #   Column  Non-Null Count   Dtype  \n",
      "---  ------  --------------   -----  \n",
      " 0   연번      101411 non-null  int64  \n",
      " 1   확진일     101411 non-null  object \n",
      " 2   환자번호    0 non-null       float64\n",
      " 3   국적      0 non-null       float64\n",
      " 4   환자정보    0 non-null       float64\n",
      " 5   지역      101411 non-null  object \n",
      " 6   여행력     1729 non-null    object \n",
      " 7   접촉력     101411 non-null  object \n",
      " 8   조치사항    0 non-null       float64\n",
      " 9   상태      101411 non-null  object \n",
      " 10  이동경로    10000 non-null   object \n",
      " 11  등록일     101411 non-null  object \n",
      " 12  수정일     101411 non-null  object \n",
      " 13  노출여부    101411 non-null  object \n",
      "dtypes: float64(4), int64(1), object(9)\n",
      "memory usage: 10.8+ MB\n"
     ]
    }
   ],
   "source": [
    "df.info()"
   ]
  },
  {
   "cell_type": "markdown",
   "id": "d998dd72",
   "metadata": {},
   "source": [
    "### 빈 킬럼 제거\n",
    "- 시간-지역별 확진자 수를 파악하기 위함이므로 결측치가 포함된 컬럼은 삭제"
   ]
  },
  {
   "cell_type": "code",
   "execution_count": 4,
   "id": "19f843bf",
   "metadata": {},
   "outputs": [],
   "source": [
    "df.drop(['환자번호', '국적', '환자정보', '여행력', '조치사항', '이동경로'], axis=1, inplace=True)"
   ]
  },
  {
   "cell_type": "code",
   "execution_count": 5,
   "id": "8da8fd2b",
   "metadata": {},
   "outputs": [
    {
     "data": {
      "text/plain": [
       "연번      0\n",
       "확진일     0\n",
       "지역      0\n",
       "접촉력     0\n",
       "상태      0\n",
       "등록일     0\n",
       "수정일     0\n",
       "노출여부    0\n",
       "dtype: int64"
      ]
     },
     "execution_count": 5,
     "metadata": {},
     "output_type": "execute_result"
    }
   ],
   "source": [
    "df.isnull().sum()"
   ]
  },
  {
   "cell_type": "markdown",
   "id": "5ab3ec4c",
   "metadata": {},
   "source": [
    "### 지역별 확진자 수를 파악하기 위해 count 컬럼 추가"
   ]
  },
  {
   "cell_type": "code",
   "execution_count": 6,
   "id": "fe5d58d3",
   "metadata": {},
   "outputs": [],
   "source": [
    "df['count'] = 1"
   ]
  },
  {
   "cell_type": "markdown",
   "id": "0bd76de6",
   "metadata": {},
   "source": [
    "### 구별 확진자 수 분류"
   ]
  },
  {
   "cell_type": "code",
   "execution_count": 7,
   "id": "0202b161",
   "metadata": {
    "scrolled": false
   },
   "outputs": [
    {
     "data": {
      "text/html": [
       "<div>\n",
       "<style scoped>\n",
       "    .dataframe tbody tr th:only-of-type {\n",
       "        vertical-align: middle;\n",
       "    }\n",
       "\n",
       "    .dataframe tbody tr th {\n",
       "        vertical-align: top;\n",
       "    }\n",
       "\n",
       "    .dataframe thead th {\n",
       "        text-align: right;\n",
       "    }\n",
       "</style>\n",
       "<table border=\"1\" class=\"dataframe\">\n",
       "  <thead>\n",
       "    <tr style=\"text-align: right;\">\n",
       "      <th></th>\n",
       "      <th>연번</th>\n",
       "      <th>count</th>\n",
       "    </tr>\n",
       "    <tr>\n",
       "      <th>지역</th>\n",
       "      <th></th>\n",
       "      <th></th>\n",
       "    </tr>\n",
       "  </thead>\n",
       "  <tbody>\n",
       "    <tr>\n",
       "      <th>강남구</th>\n",
       "      <td>372105439</td>\n",
       "      <td>7028</td>\n",
       "    </tr>\n",
       "    <tr>\n",
       "      <th>송파구</th>\n",
       "      <td>347139814</td>\n",
       "      <td>6477</td>\n",
       "    </tr>\n",
       "    <tr>\n",
       "      <th>관악구</th>\n",
       "      <td>287623783</td>\n",
       "      <td>5492</td>\n",
       "    </tr>\n",
       "    <tr>\n",
       "      <th>타시도</th>\n",
       "      <td>242537259</td>\n",
       "      <td>4776</td>\n",
       "    </tr>\n",
       "    <tr>\n",
       "      <th>영등포구</th>\n",
       "      <td>250444647</td>\n",
       "      <td>4536</td>\n",
       "    </tr>\n",
       "    <tr>\n",
       "      <th>강서구</th>\n",
       "      <td>211743005</td>\n",
       "      <td>4526</td>\n",
       "    </tr>\n",
       "    <tr>\n",
       "      <th>은평구</th>\n",
       "      <td>221170979</td>\n",
       "      <td>4341</td>\n",
       "    </tr>\n",
       "    <tr>\n",
       "      <th>서초구</th>\n",
       "      <td>209226831</td>\n",
       "      <td>4311</td>\n",
       "    </tr>\n",
       "    <tr>\n",
       "      <th>구로구</th>\n",
       "      <td>249243106</td>\n",
       "      <td>4286</td>\n",
       "    </tr>\n",
       "    <tr>\n",
       "      <th>동작구</th>\n",
       "      <td>205210716</td>\n",
       "      <td>4176</td>\n",
       "    </tr>\n",
       "    <tr>\n",
       "      <th>노원구</th>\n",
       "      <td>184846608</td>\n",
       "      <td>3972</td>\n",
       "    </tr>\n",
       "    <tr>\n",
       "      <th>강동구</th>\n",
       "      <td>199416600</td>\n",
       "      <td>3883</td>\n",
       "    </tr>\n",
       "    <tr>\n",
       "      <th>성북구</th>\n",
       "      <td>186195034</td>\n",
       "      <td>3853</td>\n",
       "    </tr>\n",
       "    <tr>\n",
       "      <th>중랑구</th>\n",
       "      <td>177838641</td>\n",
       "      <td>3778</td>\n",
       "    </tr>\n",
       "    <tr>\n",
       "      <th>마포구</th>\n",
       "      <td>198794832</td>\n",
       "      <td>3778</td>\n",
       "    </tr>\n",
       "    <tr>\n",
       "      <th>동대문구</th>\n",
       "      <td>187937613</td>\n",
       "      <td>3602</td>\n",
       "    </tr>\n",
       "    <tr>\n",
       "      <th>광진구</th>\n",
       "      <td>193539030</td>\n",
       "      <td>3567</td>\n",
       "    </tr>\n",
       "    <tr>\n",
       "      <th>양천구</th>\n",
       "      <td>163838311</td>\n",
       "      <td>3353</td>\n",
       "    </tr>\n",
       "    <tr>\n",
       "      <th>성동구</th>\n",
       "      <td>147004166</td>\n",
       "      <td>2884</td>\n",
       "    </tr>\n",
       "    <tr>\n",
       "      <th>용산구</th>\n",
       "      <td>134905521</td>\n",
       "      <td>2748</td>\n",
       "    </tr>\n",
       "    <tr>\n",
       "      <th>서대문구</th>\n",
       "      <td>142647039</td>\n",
       "      <td>2746</td>\n",
       "    </tr>\n",
       "    <tr>\n",
       "      <th>강북구</th>\n",
       "      <td>135515142</td>\n",
       "      <td>2688</td>\n",
       "    </tr>\n",
       "    <tr>\n",
       "      <th>도봉구</th>\n",
       "      <td>122744990</td>\n",
       "      <td>2648</td>\n",
       "    </tr>\n",
       "    <tr>\n",
       "      <th>기타</th>\n",
       "      <td>64045566</td>\n",
       "      <td>2405</td>\n",
       "    </tr>\n",
       "    <tr>\n",
       "      <th>금천구</th>\n",
       "      <td>122191503</td>\n",
       "      <td>2130</td>\n",
       "    </tr>\n",
       "    <tr>\n",
       "      <th>중구</th>\n",
       "      <td>99344336</td>\n",
       "      <td>1758</td>\n",
       "    </tr>\n",
       "    <tr>\n",
       "      <th>종로구</th>\n",
       "      <td>84895655</td>\n",
       "      <td>1669</td>\n",
       "    </tr>\n",
       "  </tbody>\n",
       "</table>\n",
       "</div>"
      ],
      "text/plain": [
       "             연번  count\n",
       "지역                    \n",
       "강남구   372105439   7028\n",
       "송파구   347139814   6477\n",
       "관악구   287623783   5492\n",
       "타시도   242537259   4776\n",
       "영등포구  250444647   4536\n",
       "강서구   211743005   4526\n",
       "은평구   221170979   4341\n",
       "서초구   209226831   4311\n",
       "구로구   249243106   4286\n",
       "동작구   205210716   4176\n",
       "노원구   184846608   3972\n",
       "강동구   199416600   3883\n",
       "성북구   186195034   3853\n",
       "중랑구   177838641   3778\n",
       "마포구   198794832   3778\n",
       "동대문구  187937613   3602\n",
       "광진구   193539030   3567\n",
       "양천구   163838311   3353\n",
       "성동구   147004166   2884\n",
       "용산구   134905521   2748\n",
       "서대문구  142647039   2746\n",
       "강북구   135515142   2688\n",
       "도봉구   122744990   2648\n",
       "기타     64045566   2405\n",
       "금천구   122191503   2130\n",
       "중구     99344336   1758\n",
       "종로구    84895655   1669"
      ]
     },
     "execution_count": 7,
     "metadata": {},
     "output_type": "execute_result"
    }
   ],
   "source": [
    "df_seoul = df.groupby('지역').sum().sort_values(by='count', ascending=False)\n",
    "df_seoul"
   ]
  },
  {
   "cell_type": "markdown",
   "id": "d1f6702f",
   "metadata": {},
   "source": [
    "### 서울시 구가 아닌 타시도와, 기타 데이터는 삭제"
   ]
  },
  {
   "cell_type": "code",
   "execution_count": 8,
   "id": "8eadadb2",
   "metadata": {},
   "outputs": [],
   "source": [
    "df = df.drop(df[df['지역'] == '타시도'].index)\n",
    "corona_seoul = df.drop(df[df['지역'] == '기타'].index)"
   ]
  },
  {
   "cell_type": "code",
   "execution_count": 9,
   "id": "e0775800",
   "metadata": {
    "scrolled": false
   },
   "outputs": [
    {
     "data": {
      "text/html": [
       "<div>\n",
       "<style scoped>\n",
       "    .dataframe tbody tr th:only-of-type {\n",
       "        vertical-align: middle;\n",
       "    }\n",
       "\n",
       "    .dataframe tbody tr th {\n",
       "        vertical-align: top;\n",
       "    }\n",
       "\n",
       "    .dataframe thead th {\n",
       "        text-align: right;\n",
       "    }\n",
       "</style>\n",
       "<table border=\"1\" class=\"dataframe\">\n",
       "  <thead>\n",
       "    <tr style=\"text-align: right;\">\n",
       "      <th></th>\n",
       "      <th>연번</th>\n",
       "      <th>확진일</th>\n",
       "      <th>지역</th>\n",
       "      <th>접촉력</th>\n",
       "      <th>상태</th>\n",
       "      <th>등록일</th>\n",
       "      <th>수정일</th>\n",
       "      <th>노출여부</th>\n",
       "      <th>count</th>\n",
       "    </tr>\n",
       "  </thead>\n",
       "  <tbody>\n",
       "    <tr>\n",
       "      <th>17</th>\n",
       "      <td>101394</td>\n",
       "      <td>2021-09-30</td>\n",
       "      <td>성동구</td>\n",
       "      <td>감염경로 조사중</td>\n",
       "      <td>-</td>\n",
       "      <td>2021-10-01 10:57:21</td>\n",
       "      <td>2021-10-01 10:57:21</td>\n",
       "      <td>Y</td>\n",
       "      <td>1</td>\n",
       "    </tr>\n",
       "    <tr>\n",
       "      <th>19</th>\n",
       "      <td>101392</td>\n",
       "      <td>2021-09-30</td>\n",
       "      <td>송파구</td>\n",
       "      <td>감염경로 조사중</td>\n",
       "      <td>-</td>\n",
       "      <td>2021-10-01 10:57:21</td>\n",
       "      <td>2021-10-01 10:57:21</td>\n",
       "      <td>Y</td>\n",
       "      <td>1</td>\n",
       "    </tr>\n",
       "    <tr>\n",
       "      <th>52</th>\n",
       "      <td>101359</td>\n",
       "      <td>2021-09-30</td>\n",
       "      <td>종로구</td>\n",
       "      <td>감염경로 조사중</td>\n",
       "      <td>-</td>\n",
       "      <td>2021-10-01 10:57:21</td>\n",
       "      <td>2021-10-01 10:57:21</td>\n",
       "      <td>Y</td>\n",
       "      <td>1</td>\n",
       "    </tr>\n",
       "    <tr>\n",
       "      <th>90</th>\n",
       "      <td>101321</td>\n",
       "      <td>2021-09-30</td>\n",
       "      <td>광진구</td>\n",
       "      <td>감염경로 조사중</td>\n",
       "      <td>-</td>\n",
       "      <td>2021-10-01 10:57:21</td>\n",
       "      <td>2021-10-01 10:57:21</td>\n",
       "      <td>Y</td>\n",
       "      <td>1</td>\n",
       "    </tr>\n",
       "    <tr>\n",
       "      <th>91</th>\n",
       "      <td>101320</td>\n",
       "      <td>2021-09-30</td>\n",
       "      <td>금천구</td>\n",
       "      <td>해외유입</td>\n",
       "      <td>-</td>\n",
       "      <td>2021-10-01 10:57:21</td>\n",
       "      <td>2021-10-01 10:57:21</td>\n",
       "      <td>Y</td>\n",
       "      <td>1</td>\n",
       "    </tr>\n",
       "    <tr>\n",
       "      <th>...</th>\n",
       "      <td>...</td>\n",
       "      <td>...</td>\n",
       "      <td>...</td>\n",
       "      <td>...</td>\n",
       "      <td>...</td>\n",
       "      <td>...</td>\n",
       "      <td>...</td>\n",
       "      <td>...</td>\n",
       "      <td>...</td>\n",
       "    </tr>\n",
       "    <tr>\n",
       "      <th>101406</th>\n",
       "      <td>5</td>\n",
       "      <td>2020-01-31</td>\n",
       "      <td>성북구</td>\n",
       "      <td>기타 확진자 접촉</td>\n",
       "      <td>퇴원</td>\n",
       "      <td>2021-05-27 11:08:12</td>\n",
       "      <td>2021-05-27 11:08:12</td>\n",
       "      <td>Y</td>\n",
       "      <td>1</td>\n",
       "    </tr>\n",
       "    <tr>\n",
       "      <th>101407</th>\n",
       "      <td>4</td>\n",
       "      <td>2020-01-30</td>\n",
       "      <td>마포구</td>\n",
       "      <td>해외유입</td>\n",
       "      <td>퇴원</td>\n",
       "      <td>2021-05-27 11:08:12</td>\n",
       "      <td>2021-05-27 11:08:12</td>\n",
       "      <td>Y</td>\n",
       "      <td>1</td>\n",
       "    </tr>\n",
       "    <tr>\n",
       "      <th>101408</th>\n",
       "      <td>3</td>\n",
       "      <td>2020-01-30</td>\n",
       "      <td>종로구</td>\n",
       "      <td>종로구 집단발병</td>\n",
       "      <td>퇴원</td>\n",
       "      <td>2021-05-27 11:08:12</td>\n",
       "      <td>2021-05-27 11:08:12</td>\n",
       "      <td>Y</td>\n",
       "      <td>1</td>\n",
       "    </tr>\n",
       "    <tr>\n",
       "      <th>101409</th>\n",
       "      <td>2</td>\n",
       "      <td>2020-01-30</td>\n",
       "      <td>중랑구</td>\n",
       "      <td>해외유입</td>\n",
       "      <td>퇴원</td>\n",
       "      <td>2021-05-27 11:08:12</td>\n",
       "      <td>2021-05-27 11:08:12</td>\n",
       "      <td>Y</td>\n",
       "      <td>1</td>\n",
       "    </tr>\n",
       "    <tr>\n",
       "      <th>101410</th>\n",
       "      <td>1</td>\n",
       "      <td>2020-01-24</td>\n",
       "      <td>강서구</td>\n",
       "      <td>해외유입</td>\n",
       "      <td>퇴원</td>\n",
       "      <td>2021-05-27 11:08:12</td>\n",
       "      <td>2021-05-27 11:08:12</td>\n",
       "      <td>Y</td>\n",
       "      <td>1</td>\n",
       "    </tr>\n",
       "  </tbody>\n",
       "</table>\n",
       "<p>94230 rows × 9 columns</p>\n",
       "</div>"
      ],
      "text/plain": [
       "            연번         확진일   지역        접촉력  상태                  등록일  \\\n",
       "17      101394  2021-09-30  성동구   감염경로 조사중   -  2021-10-01 10:57:21   \n",
       "19      101392  2021-09-30  송파구   감염경로 조사중   -  2021-10-01 10:57:21   \n",
       "52      101359  2021-09-30  종로구   감염경로 조사중   -  2021-10-01 10:57:21   \n",
       "90      101321  2021-09-30  광진구   감염경로 조사중   -  2021-10-01 10:57:21   \n",
       "91      101320  2021-09-30  금천구       해외유입   -  2021-10-01 10:57:21   \n",
       "...        ...         ...  ...        ...  ..                  ...   \n",
       "101406       5  2020-01-31  성북구  기타 확진자 접촉  퇴원  2021-05-27 11:08:12   \n",
       "101407       4  2020-01-30  마포구       해외유입  퇴원  2021-05-27 11:08:12   \n",
       "101408       3  2020-01-30  종로구   종로구 집단발병  퇴원  2021-05-27 11:08:12   \n",
       "101409       2  2020-01-30  중랑구       해외유입  퇴원  2021-05-27 11:08:12   \n",
       "101410       1  2020-01-24  강서구       해외유입  퇴원  2021-05-27 11:08:12   \n",
       "\n",
       "                        수정일 노출여부  count  \n",
       "17      2021-10-01 10:57:21    Y      1  \n",
       "19      2021-10-01 10:57:21    Y      1  \n",
       "52      2021-10-01 10:57:21    Y      1  \n",
       "90      2021-10-01 10:57:21    Y      1  \n",
       "91      2021-10-01 10:57:21    Y      1  \n",
       "...                     ...  ...    ...  \n",
       "101406  2021-05-27 11:08:12    Y      1  \n",
       "101407  2021-05-27 11:08:12    Y      1  \n",
       "101408  2021-05-27 11:08:12    Y      1  \n",
       "101409  2021-05-27 11:08:12    Y      1  \n",
       "101410  2021-05-27 11:08:12    Y      1  \n",
       "\n",
       "[94230 rows x 9 columns]"
      ]
     },
     "execution_count": 9,
     "metadata": {},
     "output_type": "execute_result"
    }
   ],
   "source": [
    "corona_seoul"
   ]
  },
  {
   "cell_type": "markdown",
   "id": "3fc0dfeb",
   "metadata": {},
   "source": [
    "### 구별로 데이터 나누기"
   ]
  },
  {
   "cell_type": "code",
   "execution_count": 10,
   "id": "860f5bb2",
   "metadata": {},
   "outputs": [],
   "source": [
    "Gangnam = corona_seoul[corona_seoul['지역'] == '강남구']"
   ]
  },
  {
   "cell_type": "code",
   "execution_count": 11,
   "id": "c3c3549d",
   "metadata": {},
   "outputs": [],
   "source": [
    "Gwanak = corona_seoul[corona_seoul['지역'] == '관악구']"
   ]
  },
  {
   "cell_type": "code",
   "execution_count": 12,
   "id": "9076cc95",
   "metadata": {},
   "outputs": [],
   "source": [
    "Songpa = corona_seoul[corona_seoul['지역'] == '송파구']"
   ]
  },
  {
   "cell_type": "code",
   "execution_count": 13,
   "id": "0ff35b36",
   "metadata": {},
   "outputs": [],
   "source": [
    "Ydp = corona_seoul[corona_seoul['지역'] == '영등포']"
   ]
  },
  {
   "cell_type": "code",
   "execution_count": 14,
   "id": "9f52486c",
   "metadata": {},
   "outputs": [],
   "source": [
    "Gangseo = corona_seoul[corona_seoul['지역'] == '강서구']"
   ]
  },
  {
   "cell_type": "code",
   "execution_count": 15,
   "id": "4bfe7451",
   "metadata": {},
   "outputs": [],
   "source": [
    "Ep = corona_seoul[corona_seoul['지역'] == '은평구']"
   ]
  },
  {
   "cell_type": "code",
   "execution_count": 16,
   "id": "dcc2e363",
   "metadata": {},
   "outputs": [],
   "source": [
    "Seocho = corona_seoul[corona_seoul['지역'] == '서초구']"
   ]
  },
  {
   "cell_type": "code",
   "execution_count": 17,
   "id": "e7f209c5",
   "metadata": {},
   "outputs": [],
   "source": [
    "Guro = corona_seoul[corona_seoul['지역'] == '구로구']"
   ]
  },
  {
   "cell_type": "code",
   "execution_count": 18,
   "id": "ef41c2a5",
   "metadata": {},
   "outputs": [],
   "source": [
    "Dongjak = corona_seoul[corona_seoul['지역'] == '동작구']"
   ]
  },
  {
   "cell_type": "code",
   "execution_count": 19,
   "id": "b2b94194",
   "metadata": {},
   "outputs": [],
   "source": [
    "Nowon = corona_seoul[corona_seoul['지역'] == '노원구']"
   ]
  },
  {
   "cell_type": "code",
   "execution_count": 20,
   "id": "089ce077",
   "metadata": {},
   "outputs": [],
   "source": [
    "Gangdong = corona_seoul[corona_seoul['지역'] == '강동구']"
   ]
  },
  {
   "cell_type": "code",
   "execution_count": 21,
   "id": "b3987d6f",
   "metadata": {},
   "outputs": [],
   "source": [
    "Seongbuk = corona_seoul[corona_seoul['지역'] == '성북구']"
   ]
  },
  {
   "cell_type": "code",
   "execution_count": 22,
   "id": "713faf1c",
   "metadata": {},
   "outputs": [],
   "source": [
    "Jungrang = corona_seoul[corona_seoul['지역'] == '중랑구']"
   ]
  },
  {
   "cell_type": "code",
   "execution_count": 23,
   "id": "438a1747",
   "metadata": {},
   "outputs": [],
   "source": [
    "Mapo = corona_seoul[corona_seoul['지역'] == '마포구']"
   ]
  },
  {
   "cell_type": "code",
   "execution_count": 24,
   "id": "9ebdec99",
   "metadata": {},
   "outputs": [],
   "source": [
    "Dongdaemun = corona_seoul[corona_seoul['지역'] == '동대문구']"
   ]
  },
  {
   "cell_type": "code",
   "execution_count": 25,
   "id": "d07bf06c",
   "metadata": {},
   "outputs": [],
   "source": [
    "Gwangjin = corona_seoul[corona_seoul['지역'] == '광진구']"
   ]
  },
  {
   "cell_type": "code",
   "execution_count": 26,
   "id": "c50d4b9b",
   "metadata": {},
   "outputs": [],
   "source": [
    "Yangchun = corona_seoul[corona_seoul['지역'] == '양천구']"
   ]
  },
  {
   "cell_type": "code",
   "execution_count": 27,
   "id": "c797b6b1",
   "metadata": {},
   "outputs": [],
   "source": [
    "Sungdong = corona_seoul[corona_seoul['지역'] == '성동구']"
   ]
  },
  {
   "cell_type": "code",
   "execution_count": 28,
   "id": "e718f11b",
   "metadata": {},
   "outputs": [],
   "source": [
    "Yongsan = corona_seoul[corona_seoul['지역'] == '용산구']"
   ]
  },
  {
   "cell_type": "code",
   "execution_count": 29,
   "id": "e0260e6d",
   "metadata": {},
   "outputs": [],
   "source": [
    "Seodaemun = corona_seoul[corona_seoul['지역'] == '서대문구']"
   ]
  },
  {
   "cell_type": "code",
   "execution_count": 30,
   "id": "e4bcc957",
   "metadata": {},
   "outputs": [],
   "source": [
    "Gangbuk = corona_seoul[corona_seoul['지역'] == '강북구']"
   ]
  },
  {
   "cell_type": "code",
   "execution_count": 31,
   "id": "678ff24d",
   "metadata": {},
   "outputs": [],
   "source": [
    "Dobong = corona_seoul[corona_seoul['지역'] == '도봉구']"
   ]
  },
  {
   "cell_type": "code",
   "execution_count": 32,
   "id": "4e53c315",
   "metadata": {},
   "outputs": [],
   "source": [
    "Geumchun = corona_seoul[corona_seoul['지역'] == '금천구']"
   ]
  },
  {
   "cell_type": "code",
   "execution_count": 33,
   "id": "ab8325ca",
   "metadata": {},
   "outputs": [],
   "source": [
    "Jung = corona_seoul[corona_seoul['지역'] == '중구']"
   ]
  },
  {
   "cell_type": "code",
   "execution_count": 34,
   "id": "9f69c627",
   "metadata": {},
   "outputs": [],
   "source": [
    "Jongro = corona_seoul[corona_seoul['지역'] == '종로구']"
   ]
  },
  {
   "cell_type": "code",
   "execution_count": 35,
   "id": "b213361f",
   "metadata": {},
   "outputs": [
    {
     "data": {
      "text/plain": [
       "['강남구',\n",
       " '강동구',\n",
       " '강북구',\n",
       " '강서구',\n",
       " '관악구',\n",
       " '광진구',\n",
       " '구로구',\n",
       " '금천구',\n",
       " '노원구',\n",
       " '도봉구',\n",
       " '동대문구',\n",
       " '동작구',\n",
       " '마포구',\n",
       " '서대문구',\n",
       " '서초구',\n",
       " '성동구',\n",
       " '성북구',\n",
       " '송파구',\n",
       " '양천구',\n",
       " '영등포구',\n",
       " '용산구',\n",
       " '은평구',\n",
       " '종로구',\n",
       " '중구',\n",
       " '중랑구']"
      ]
     },
     "execution_count": 35,
     "metadata": {},
     "output_type": "execute_result"
    }
   ],
   "source": [
    "# df에서 지역명을 뽑아서 리스트로 저장\n",
    "province = np.unique(corona_seoul['지역'].values).tolist()\n",
    "province"
   ]
  },
  {
   "cell_type": "code",
   "execution_count": 36,
   "id": "cfd50bfe",
   "metadata": {},
   "outputs": [],
   "source": [
    "for i in province:\n",
    "    globals()['df_{}'.format(i)] = corona_seoul[corona_seoul['지역'] == i]"
   ]
  },
  {
   "cell_type": "code",
   "execution_count": 37,
   "id": "3b9c4ba2",
   "metadata": {},
   "outputs": [
    {
     "data": {
      "text/html": [
       "<div>\n",
       "<style scoped>\n",
       "    .dataframe tbody tr th:only-of-type {\n",
       "        vertical-align: middle;\n",
       "    }\n",
       "\n",
       "    .dataframe tbody tr th {\n",
       "        vertical-align: top;\n",
       "    }\n",
       "\n",
       "    .dataframe thead th {\n",
       "        text-align: right;\n",
       "    }\n",
       "</style>\n",
       "<table border=\"1\" class=\"dataframe\">\n",
       "  <thead>\n",
       "    <tr style=\"text-align: right;\">\n",
       "      <th></th>\n",
       "      <th>연번</th>\n",
       "      <th>확진일</th>\n",
       "      <th>지역</th>\n",
       "      <th>접촉력</th>\n",
       "      <th>상태</th>\n",
       "      <th>등록일</th>\n",
       "      <th>수정일</th>\n",
       "      <th>노출여부</th>\n",
       "      <th>count</th>\n",
       "    </tr>\n",
       "  </thead>\n",
       "  <tbody>\n",
       "    <tr>\n",
       "      <th>19</th>\n",
       "      <td>101392</td>\n",
       "      <td>2021-09-30</td>\n",
       "      <td>송파구</td>\n",
       "      <td>감염경로 조사중</td>\n",
       "      <td>-</td>\n",
       "      <td>2021-10-01 10:57:21</td>\n",
       "      <td>2021-10-01 10:57:21</td>\n",
       "      <td>Y</td>\n",
       "      <td>1</td>\n",
       "    </tr>\n",
       "    <tr>\n",
       "      <th>167</th>\n",
       "      <td>101244</td>\n",
       "      <td>2021-09-30</td>\n",
       "      <td>송파구</td>\n",
       "      <td>송파구 소재 시장 관련(�'21.9.)</td>\n",
       "      <td>-</td>\n",
       "      <td>2021-10-01 10:57:21</td>\n",
       "      <td>2021-10-01 10:57:21</td>\n",
       "      <td>Y</td>\n",
       "      <td>1</td>\n",
       "    </tr>\n",
       "    <tr>\n",
       "      <th>204</th>\n",
       "      <td>101207</td>\n",
       "      <td>2021-09-30</td>\n",
       "      <td>송파구</td>\n",
       "      <td>기타 확진자 접촉</td>\n",
       "      <td>-</td>\n",
       "      <td>2021-10-01 10:57:21</td>\n",
       "      <td>2021-10-01 10:57:21</td>\n",
       "      <td>Y</td>\n",
       "      <td>1</td>\n",
       "    </tr>\n",
       "    <tr>\n",
       "      <th>217</th>\n",
       "      <td>101194</td>\n",
       "      <td>2021-09-30</td>\n",
       "      <td>송파구</td>\n",
       "      <td>기타 확진자 접촉</td>\n",
       "      <td>-</td>\n",
       "      <td>2021-10-01 10:57:21</td>\n",
       "      <td>2021-10-01 10:57:21</td>\n",
       "      <td>Y</td>\n",
       "      <td>1</td>\n",
       "    </tr>\n",
       "    <tr>\n",
       "      <th>230</th>\n",
       "      <td>101181</td>\n",
       "      <td>2021-09-30</td>\n",
       "      <td>송파구</td>\n",
       "      <td>기타 확진자 접촉</td>\n",
       "      <td>-</td>\n",
       "      <td>2021-10-01 10:57:21</td>\n",
       "      <td>2021-10-01 10:57:21</td>\n",
       "      <td>Y</td>\n",
       "      <td>1</td>\n",
       "    </tr>\n",
       "    <tr>\n",
       "      <th>...</th>\n",
       "      <td>...</td>\n",
       "      <td>...</td>\n",
       "      <td>...</td>\n",
       "      <td>...</td>\n",
       "      <td>...</td>\n",
       "      <td>...</td>\n",
       "      <td>...</td>\n",
       "      <td>...</td>\n",
       "      <td>...</td>\n",
       "    </tr>\n",
       "    <tr>\n",
       "      <th>101375</th>\n",
       "      <td>36</td>\n",
       "      <td>2020-02-24</td>\n",
       "      <td>송파구</td>\n",
       "      <td>타시도 확진자 접촉</td>\n",
       "      <td>퇴원</td>\n",
       "      <td>2021-05-27 11:08:12</td>\n",
       "      <td>2021-05-27 11:08:12</td>\n",
       "      <td>Y</td>\n",
       "      <td>1</td>\n",
       "    </tr>\n",
       "    <tr>\n",
       "      <th>101378</th>\n",
       "      <td>33</td>\n",
       "      <td>2020-02-24</td>\n",
       "      <td>송파구</td>\n",
       "      <td>타시도 확진자 접촉</td>\n",
       "      <td>퇴원</td>\n",
       "      <td>2021-05-27 11:08:12</td>\n",
       "      <td>2021-05-27 11:08:12</td>\n",
       "      <td>Y</td>\n",
       "      <td>1</td>\n",
       "    </tr>\n",
       "    <tr>\n",
       "      <th>101379</th>\n",
       "      <td>32</td>\n",
       "      <td>2020-02-24</td>\n",
       "      <td>송파구</td>\n",
       "      <td>타시도 확진자 접촉</td>\n",
       "      <td>퇴원</td>\n",
       "      <td>2021-05-27 11:08:12</td>\n",
       "      <td>2021-05-27 11:08:12</td>\n",
       "      <td>Y</td>\n",
       "      <td>1</td>\n",
       "    </tr>\n",
       "    <tr>\n",
       "      <th>101381</th>\n",
       "      <td>30</td>\n",
       "      <td>2020-02-22</td>\n",
       "      <td>송파구</td>\n",
       "      <td>타시도 확진자 접촉</td>\n",
       "      <td>퇴원</td>\n",
       "      <td>2021-05-27 11:08:12</td>\n",
       "      <td>2021-05-27 11:08:12</td>\n",
       "      <td>Y</td>\n",
       "      <td>1</td>\n",
       "    </tr>\n",
       "    <tr>\n",
       "      <th>101402</th>\n",
       "      <td>9</td>\n",
       "      <td>2020-02-05</td>\n",
       "      <td>송파구</td>\n",
       "      <td>해외유입</td>\n",
       "      <td>퇴원</td>\n",
       "      <td>2021-05-27 11:08:12</td>\n",
       "      <td>2021-05-27 11:08:12</td>\n",
       "      <td>Y</td>\n",
       "      <td>1</td>\n",
       "    </tr>\n",
       "  </tbody>\n",
       "</table>\n",
       "<p>6477 rows × 9 columns</p>\n",
       "</div>"
      ],
      "text/plain": [
       "            연번         확진일   지역                    접촉력  상태  \\\n",
       "19      101392  2021-09-30  송파구               감염경로 조사중   -   \n",
       "167     101244  2021-09-30  송파구  송파구 소재 시장 관련(�'21.9.)   -   \n",
       "204     101207  2021-09-30  송파구              기타 확진자 접촉   -   \n",
       "217     101194  2021-09-30  송파구              기타 확진자 접촉   -   \n",
       "230     101181  2021-09-30  송파구              기타 확진자 접촉   -   \n",
       "...        ...         ...  ...                    ...  ..   \n",
       "101375      36  2020-02-24  송파구             타시도 확진자 접촉  퇴원   \n",
       "101378      33  2020-02-24  송파구             타시도 확진자 접촉  퇴원   \n",
       "101379      32  2020-02-24  송파구             타시도 확진자 접촉  퇴원   \n",
       "101381      30  2020-02-22  송파구             타시도 확진자 접촉  퇴원   \n",
       "101402       9  2020-02-05  송파구                   해외유입  퇴원   \n",
       "\n",
       "                        등록일                  수정일 노출여부  count  \n",
       "19      2021-10-01 10:57:21  2021-10-01 10:57:21    Y      1  \n",
       "167     2021-10-01 10:57:21  2021-10-01 10:57:21    Y      1  \n",
       "204     2021-10-01 10:57:21  2021-10-01 10:57:21    Y      1  \n",
       "217     2021-10-01 10:57:21  2021-10-01 10:57:21    Y      1  \n",
       "230     2021-10-01 10:57:21  2021-10-01 10:57:21    Y      1  \n",
       "...                     ...                  ...  ...    ...  \n",
       "101375  2021-05-27 11:08:12  2021-05-27 11:08:12    Y      1  \n",
       "101378  2021-05-27 11:08:12  2021-05-27 11:08:12    Y      1  \n",
       "101379  2021-05-27 11:08:12  2021-05-27 11:08:12    Y      1  \n",
       "101381  2021-05-27 11:08:12  2021-05-27 11:08:12    Y      1  \n",
       "101402  2021-05-27 11:08:12  2021-05-27 11:08:12    Y      1  \n",
       "\n",
       "[6477 rows x 9 columns]"
      ]
     },
     "execution_count": 37,
     "metadata": {},
     "output_type": "execute_result"
    }
   ],
   "source": [
    "df_송파구"
   ]
  },
  {
   "cell_type": "code",
   "execution_count": 39,
   "id": "48a8f636",
   "metadata": {},
   "outputs": [],
   "source": [
    "location = [Gangnam, Gwanak, Songpa, Ydp, Gangseo, Ep, Seocho, Guro, Dongjak, Nowon, Gangdong, Seongbuk, Jungrang, Mapo, Dongdaemun, Gwangjin, Yangchun, Sungdong, Yongsan, Seodaemun, Gangbuk, Dobong, Geumchun, Jung, Jongro]"
   ]
  },
  {
   "cell_type": "markdown",
   "id": "49f04f4b",
   "metadata": {},
   "source": [
    "### 단위기간별로 확진자를 파악하기 위해 object 타입인 확진일을 datetime 타입으로 변경"
   ]
  },
  {
   "cell_type": "code",
   "execution_count": 40,
   "id": "5a045b9d",
   "metadata": {},
   "outputs": [],
   "source": [
    "for dataset in location:\n",
    "    dataset['datetime'] = dataset['확진일'].apply(lambda x: pd.to_datetime(str(x), format='%Y-%m-%d'))\n",
    "    dataset.set_index('datetime', inplace=True)\n",
    "    dataset.drop(['확진일', '연번'], axis=1, inplace=True)"
   ]
  },
  {
   "cell_type": "code",
   "execution_count": 41,
   "id": "27776b46",
   "metadata": {
    "scrolled": true
   },
   "outputs": [
    {
     "data": {
      "text/plain": [
       "DatetimeIndex(['2021-09-30', '2021-09-30', '2021-09-30', '2021-09-30',\n",
       "               '2021-09-30', '2021-09-30', '2021-09-30', '2021-09-30',\n",
       "               '2021-09-30', '2021-09-30',\n",
       "               ...\n",
       "               '2020-03-05', '2020-03-02', '2020-03-01', '2020-02-29',\n",
       "               '2020-02-28', '2020-02-28', '2020-02-28', '2020-02-27',\n",
       "               '2020-02-26', '2020-02-26'],\n",
       "              dtype='datetime64[ns]', name='datetime', length=7028, freq=None)"
      ]
     },
     "execution_count": 41,
     "metadata": {},
     "output_type": "execute_result"
    }
   ],
   "source": [
    "Gangnam.index"
   ]
  },
  {
   "cell_type": "markdown",
   "id": "42534603",
   "metadata": {},
   "source": [
    "### resample 함수를 이용해서 주, 월, 분기별로 확진자 수 파악"
   ]
  },
  {
   "cell_type": "code",
   "execution_count": 42,
   "id": "8f7e27c2",
   "metadata": {
    "scrolled": false
   },
   "outputs": [],
   "source": [
    "Gangnam_weekly = Gangnam.resample('W').sum()\n",
    "Gangnam_monthly = Gangnam.resample('M').sum()\n",
    "Gangnam_quaterly = Gangnam.resample('Q').sum()"
   ]
  },
  {
   "cell_type": "code",
   "execution_count": 43,
   "id": "c24dd214",
   "metadata": {},
   "outputs": [
    {
     "ename": "TypeError",
     "evalue": "Only valid with DatetimeIndex, TimedeltaIndex or PeriodIndex, but got an instance of 'Index'",
     "output_type": "error",
     "traceback": [
      "\u001b[0;31m---------------------------------------------------------------------------\u001b[0m",
      "\u001b[0;31mTypeError\u001b[0m                                 Traceback (most recent call last)",
      "\u001b[0;32m<ipython-input-43-7f1272f55d77>\u001b[0m in \u001b[0;36m<module>\u001b[0;34m\u001b[0m\n\u001b[1;32m      1\u001b[0m \u001b[0;32mfor\u001b[0m \u001b[0mi\u001b[0m \u001b[0;32min\u001b[0m \u001b[0mprovince\u001b[0m\u001b[0;34m:\u001b[0m\u001b[0;34m\u001b[0m\u001b[0;34m\u001b[0m\u001b[0m\n\u001b[1;32m      2\u001b[0m     \u001b[0;32mfor\u001b[0m \u001b[0mdataset\u001b[0m \u001b[0;32min\u001b[0m \u001b[0mlocation\u001b[0m\u001b[0;34m:\u001b[0m\u001b[0;34m\u001b[0m\u001b[0;34m\u001b[0m\u001b[0m\n\u001b[0;32m----> 3\u001b[0;31m         \u001b[0mglobals\u001b[0m\u001b[0;34m(\u001b[0m\u001b[0;34m)\u001b[0m\u001b[0;34m[\u001b[0m\u001b[0;34m'df_{}_weekly'\u001b[0m\u001b[0;34m.\u001b[0m\u001b[0mformat\u001b[0m\u001b[0;34m(\u001b[0m\u001b[0mi\u001b[0m\u001b[0;34m)\u001b[0m\u001b[0;34m]\u001b[0m \u001b[0;34m=\u001b[0m \u001b[0mdataset\u001b[0m\u001b[0;34m.\u001b[0m\u001b[0mresample\u001b[0m\u001b[0;34m(\u001b[0m\u001b[0;34m'W'\u001b[0m\u001b[0;34m)\u001b[0m\u001b[0;34m.\u001b[0m\u001b[0msum\u001b[0m\u001b[0;34m(\u001b[0m\u001b[0;34m)\u001b[0m\u001b[0;34m\u001b[0m\u001b[0;34m\u001b[0m\u001b[0m\n\u001b[0m\u001b[1;32m      4\u001b[0m         \u001b[0mglobals\u001b[0m\u001b[0;34m(\u001b[0m\u001b[0;34m)\u001b[0m\u001b[0;34m[\u001b[0m\u001b[0;34m'df_{}_monthly'\u001b[0m\u001b[0;34m.\u001b[0m\u001b[0mformat\u001b[0m\u001b[0;34m(\u001b[0m\u001b[0mi\u001b[0m\u001b[0;34m)\u001b[0m\u001b[0;34m]\u001b[0m \u001b[0;34m=\u001b[0m \u001b[0mdataset\u001b[0m\u001b[0;34m.\u001b[0m\u001b[0mresample\u001b[0m\u001b[0;34m(\u001b[0m\u001b[0;34m'M'\u001b[0m\u001b[0;34m)\u001b[0m\u001b[0;34m.\u001b[0m\u001b[0msum\u001b[0m\u001b[0;34m(\u001b[0m\u001b[0;34m)\u001b[0m\u001b[0;34m\u001b[0m\u001b[0;34m\u001b[0m\u001b[0m\n\u001b[1;32m      5\u001b[0m         \u001b[0mglobals\u001b[0m\u001b[0;34m(\u001b[0m\u001b[0;34m)\u001b[0m\u001b[0;34m[\u001b[0m\u001b[0;34m'df_{}_queaterly'\u001b[0m\u001b[0;34m.\u001b[0m\u001b[0mformat\u001b[0m\u001b[0;34m(\u001b[0m\u001b[0mi\u001b[0m\u001b[0;34m)\u001b[0m\u001b[0;34m]\u001b[0m \u001b[0;34m=\u001b[0m \u001b[0mdataset\u001b[0m\u001b[0;34m.\u001b[0m\u001b[0mresample\u001b[0m\u001b[0;34m(\u001b[0m\u001b[0;34m'Q'\u001b[0m\u001b[0;34m)\u001b[0m\u001b[0;34m.\u001b[0m\u001b[0msum\u001b[0m\u001b[0;34m(\u001b[0m\u001b[0;34m)\u001b[0m\u001b[0;34m\u001b[0m\u001b[0;34m\u001b[0m\u001b[0m\n",
      "\u001b[0;32m~/opt/anaconda3/lib/python3.8/site-packages/pandas/core/generic.py\u001b[0m in \u001b[0;36mresample\u001b[0;34m(self, rule, axis, closed, label, convention, kind, loffset, base, on, level, origin, offset)\u001b[0m\n\u001b[1;32m   8367\u001b[0m \u001b[0;34m\u001b[0m\u001b[0m\n\u001b[1;32m   8368\u001b[0m         \u001b[0maxis\u001b[0m \u001b[0;34m=\u001b[0m \u001b[0mself\u001b[0m\u001b[0;34m.\u001b[0m\u001b[0m_get_axis_number\u001b[0m\u001b[0;34m(\u001b[0m\u001b[0maxis\u001b[0m\u001b[0;34m)\u001b[0m\u001b[0;34m\u001b[0m\u001b[0;34m\u001b[0m\u001b[0m\n\u001b[0;32m-> 8369\u001b[0;31m         return get_resampler(\n\u001b[0m\u001b[1;32m   8370\u001b[0m             \u001b[0mself\u001b[0m\u001b[0;34m,\u001b[0m\u001b[0;34m\u001b[0m\u001b[0;34m\u001b[0m\u001b[0m\n\u001b[1;32m   8371\u001b[0m             \u001b[0mfreq\u001b[0m\u001b[0;34m=\u001b[0m\u001b[0mrule\u001b[0m\u001b[0;34m,\u001b[0m\u001b[0;34m\u001b[0m\u001b[0;34m\u001b[0m\u001b[0m\n",
      "\u001b[0;32m~/opt/anaconda3/lib/python3.8/site-packages/pandas/core/resample.py\u001b[0m in \u001b[0;36mget_resampler\u001b[0;34m(obj, kind, **kwds)\u001b[0m\n\u001b[1;32m   1309\u001b[0m     \"\"\"\n\u001b[1;32m   1310\u001b[0m     \u001b[0mtg\u001b[0m \u001b[0;34m=\u001b[0m \u001b[0mTimeGrouper\u001b[0m\u001b[0;34m(\u001b[0m\u001b[0;34m**\u001b[0m\u001b[0mkwds\u001b[0m\u001b[0;34m)\u001b[0m\u001b[0;34m\u001b[0m\u001b[0;34m\u001b[0m\u001b[0m\n\u001b[0;32m-> 1311\u001b[0;31m     \u001b[0;32mreturn\u001b[0m \u001b[0mtg\u001b[0m\u001b[0;34m.\u001b[0m\u001b[0m_get_resampler\u001b[0m\u001b[0;34m(\u001b[0m\u001b[0mobj\u001b[0m\u001b[0;34m,\u001b[0m \u001b[0mkind\u001b[0m\u001b[0;34m=\u001b[0m\u001b[0mkind\u001b[0m\u001b[0;34m)\u001b[0m\u001b[0;34m\u001b[0m\u001b[0;34m\u001b[0m\u001b[0m\n\u001b[0m\u001b[1;32m   1312\u001b[0m \u001b[0;34m\u001b[0m\u001b[0m\n\u001b[1;32m   1313\u001b[0m \u001b[0;34m\u001b[0m\u001b[0m\n",
      "\u001b[0;32m~/opt/anaconda3/lib/python3.8/site-packages/pandas/core/resample.py\u001b[0m in \u001b[0;36m_get_resampler\u001b[0;34m(self, obj, kind)\u001b[0m\n\u001b[1;32m   1474\u001b[0m             \u001b[0;32mreturn\u001b[0m \u001b[0mTimedeltaIndexResampler\u001b[0m\u001b[0;34m(\u001b[0m\u001b[0mobj\u001b[0m\u001b[0;34m,\u001b[0m \u001b[0mgroupby\u001b[0m\u001b[0;34m=\u001b[0m\u001b[0mself\u001b[0m\u001b[0;34m,\u001b[0m \u001b[0maxis\u001b[0m\u001b[0;34m=\u001b[0m\u001b[0mself\u001b[0m\u001b[0;34m.\u001b[0m\u001b[0maxis\u001b[0m\u001b[0;34m)\u001b[0m\u001b[0;34m\u001b[0m\u001b[0;34m\u001b[0m\u001b[0m\n\u001b[1;32m   1475\u001b[0m \u001b[0;34m\u001b[0m\u001b[0m\n\u001b[0;32m-> 1476\u001b[0;31m         raise TypeError(\n\u001b[0m\u001b[1;32m   1477\u001b[0m             \u001b[0;34m\"Only valid with DatetimeIndex, \"\u001b[0m\u001b[0;34m\u001b[0m\u001b[0;34m\u001b[0m\u001b[0m\n\u001b[1;32m   1478\u001b[0m             \u001b[0;34m\"TimedeltaIndex or PeriodIndex, \"\u001b[0m\u001b[0;34m\u001b[0m\u001b[0;34m\u001b[0m\u001b[0m\n",
      "\u001b[0;31mTypeError\u001b[0m: Only valid with DatetimeIndex, TimedeltaIndex or PeriodIndex, but got an instance of 'Index'"
     ]
    }
   ],
   "source": [
    "for i in province:\n",
    "    for dataset in location:\n",
    "        globals()['df_{}_weekly'.format(i)] = dataset.resample('W').sum()\n",
    "        globals()['df_{}_monthly'.format(i)] = dataset.resample('M').sum()\n",
    "        globals()['df_{}_queaterly'.format(i)] = dataset.resample('Q').sum()"
   ]
  },
  {
   "cell_type": "code",
   "execution_count": null,
   "id": "0fb42ccd",
   "metadata": {},
   "outputs": [],
   "source": []
  },
  {
   "cell_type": "code",
   "execution_count": null,
   "id": "94d4dbf3",
   "metadata": {},
   "outputs": [],
   "source": []
  },
  {
   "cell_type": "code",
   "execution_count": null,
   "id": "cde88d10",
   "metadata": {},
   "outputs": [],
   "source": []
  },
  {
   "cell_type": "code",
   "execution_count": null,
   "id": "a3b3ff0a",
   "metadata": {},
   "outputs": [],
   "source": []
  },
  {
   "cell_type": "code",
   "execution_count": null,
   "id": "bf77c283",
   "metadata": {},
   "outputs": [],
   "source": []
  },
  {
   "cell_type": "markdown",
   "id": "1b5f4e06",
   "metadata": {},
   "source": [
    "### folium으로 맵에 시각화"
   ]
  },
  {
   "cell_type": "code",
   "execution_count": null,
   "id": "dc4551b5",
   "metadata": {
    "scrolled": false
   },
   "outputs": [],
   "source": [
    "pip install folium"
   ]
  },
  {
   "cell_type": "code",
   "execution_count": null,
   "id": "df00c59c",
   "metadata": {},
   "outputs": [],
   "source": [
    "import folium\n",
    "map_osm = folium.Map(location=[37.529622, 126.984307], zoom_start=11)"
   ]
  },
  {
   "cell_type": "code",
   "execution_count": null,
   "id": "0be7e874",
   "metadata": {},
   "outputs": [],
   "source": [
    "df_seoul.reset_index(inplace=True)"
   ]
  },
  {
   "cell_type": "markdown",
   "id": "29de793d",
   "metadata": {},
   "source": [
    "### 서울시 구별 좌표 json 파일 불러오기"
   ]
  },
  {
   "cell_type": "code",
   "execution_count": null,
   "id": "6a19a000",
   "metadata": {},
   "outputs": [],
   "source": [
    "state_geo = 'https://raw.githubusercontent.com/southkorea/seoul-maps/master/kostat/2013/json/seoul_municipalities_geo_simple.json'"
   ]
  },
  {
   "cell_type": "markdown",
   "id": "af363a52",
   "metadata": {},
   "source": [
    "### choropleth를 이용한 구별 누적 확진자 수 시각화"
   ]
  },
  {
   "cell_type": "code",
   "execution_count": null,
   "id": "6712727e",
   "metadata": {
    "scrolled": false
   },
   "outputs": [],
   "source": [
    "map_osm.choropleth(\n",
    "    geo_data=state_geo,\n",
    "    name='서울시 코로나 누적 확진자 수',\n",
    "    data=df_seoul,\n",
    "    columns=['지역', 'count'],\n",
    "    key_on='feature.properties.name',\n",
    "    fill_color='Blues',\n",
    "    fill_opacity=0.7,\n",
    "    line_opacity=0.3,\n",
    "    color = 'gray',\n",
    "    legend_name = '확진자 수'\n",
    ")\n",
    "\n",
    "map_osm"
   ]
  },
  {
   "cell_type": "code",
   "execution_count": null,
   "id": "aa3f3182",
   "metadata": {},
   "outputs": [],
   "source": [
    "gu = pd.read_csv('./location.csv')\n",
    "gu"
   ]
  },
  {
   "cell_type": "code",
   "execution_count": null,
   "id": "297cc423",
   "metadata": {},
   "outputs": [],
   "source": [
    "for region in set(corona_seoul['지역']):\n",
    "\n",
    "    # 해당 지역의 데이터 개수를 count에 저장합니다.\n",
    "    count = len(corona_seoul[corona_seoul['지역'] == region])\n",
    "    # 해당 지역의 데이터를 CRS에서 뽑아냅니다.\n",
    "    tmp_region = gu[gu['시군구명_한글'] == region]\n",
    "    \n",
    "    marker = folium.Marker([tmp_region['위도'], tmp_region['경도']], # 위치\n",
    "                                  popup=' '.join((region, str(count), '명'))) # 팝업 설정\n",
    "    \n",
    "    # 생성한 원형마커를 지도에 추가합니다.\n",
    "    marker.add_to(map_osm)"
   ]
  },
  {
   "cell_type": "code",
   "execution_count": null,
   "id": "ad160a0b",
   "metadata": {
    "scrolled": false
   },
   "outputs": [],
   "source": [
    "map_osm"
   ]
  },
  {
   "cell_type": "code",
   "execution_count": null,
   "id": "f1d0f895",
   "metadata": {},
   "outputs": [],
   "source": []
  }
 ],
 "metadata": {
  "kernelspec": {
   "display_name": "Python 3",
   "language": "python",
   "name": "python3"
  },
  "language_info": {
   "codemirror_mode": {
    "name": "ipython",
    "version": 3
   },
   "file_extension": ".py",
   "mimetype": "text/x-python",
   "name": "python",
   "nbconvert_exporter": "python",
   "pygments_lexer": "ipython3",
   "version": "3.8.8"
  }
 },
 "nbformat": 4,
 "nbformat_minor": 5
}
